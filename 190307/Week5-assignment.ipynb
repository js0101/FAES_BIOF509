{
 "cells": [
  {
   "cell_type": "markdown",
   "metadata": {
    "deletable": false,
    "editable": false,
    "nbgrader": {
     "checksum": "28e1a494ee333046f0618cdd5ebecd5e",
     "grade": false,
     "grade_id": "cell-f83bb58b03292578",
     "locked": true,
     "schema_version": 1,
     "solution": false
    }
   },
   "source": [
    "# Week5 Assignment - Cross-Validation.\n",
    "\n",
    "For this assignment, you will use a generated dataset to practice cross-validation and parameter optimization.\n",
    "\n",
    "In the first component, you will run linear regression using cross-validation.\n",
    "\n",
    "In the second component, you will run linear regression using Lasso and cross-validation.\n",
    "\n",
    "In the third component, you will run linear regression with nested cross-validation.\n",
    "\n",
    "All the exercises are designed so that the solutions will need only one or a few lines of code.\n",
    "\n",
    "Do not hesitate to contact instuctors and TA via #week5 channel on Slack if you get stuck. Join the channel first by clicking on Channels."
   ]
  },
  {
   "cell_type": "markdown",
   "metadata": {
    "deletable": false,
    "editable": false,
    "nbgrader": {
     "checksum": "188a98d7341992477c96c5d388fc4b98",
     "grade": false,
     "grade_id": "cell-f6b1a85538f737d8",
     "locked": true,
     "schema_version": 1,
     "solution": false
    }
   },
   "source": [
    "## Part A. Run linear regression with cross-validation.\n",
    "\n",
    "In this component you will run linear regression with 5-fold cross-validation.\n",
    "\n",
    "We have provided you with features X and response y. We've also provided a premade cross-validation iterator.\n",
    "\n",
    "Build a linear model and use SKLearn's cross_val_score function to assess how well your model generalizes. Save the array from cross_val_score to a variable named cv_score.\n",
    "\n",
    "When you run cross_val_score, make sure to:\n",
    "* Use the cross-validation iterator that we provide (cv_iterator)\n",
    "* Set the scoring function to \"neg_mean_squared_error\"\n"
   ]
  },
  {
   "cell_type": "code",
   "execution_count": null,
   "metadata": {
    "deletable": false,
    "nbgrader": {
     "checksum": "8a671d279946e18148c04485849fe837",
     "grade": false,
     "grade_id": "cell-c1e7f79ad332b8f9",
     "locked": false,
     "schema_version": 1,
     "solution": true
    }
   },
   "outputs": [],
   "source": [
    "import pandas as pd\n",
    "import numpy as np\n",
    "\n",
    "from sklearn.datasets import make_regression\n",
    "from sklearn.model_selection import KFold\n",
    "from sklearn.model_selection import cross_val_score\n",
    "from sklearn.linear_model import LinearRegression\n",
    "\n",
    "# Generate data\n",
    "X, y = make_regression(n_samples=100, n_features=100, n_informative=10, random_state=10)\n",
    "\n",
    "# Iterator setup\n",
    "cv_iterator = KFold(n_splits=5, shuffle=True, random_state=10)\n",
    "\n",
    "# YOUR CODE HERE\n",
    "raise NotImplementedError()"
   ]
  },
  {
   "cell_type": "code",
   "execution_count": null,
   "metadata": {
    "deletable": false,
    "editable": false,
    "nbgrader": {
     "checksum": "5869234f1940fb5df915d22b2bf512a5",
     "grade": true,
     "grade_id": "cell-fd50146eeead0c65",
     "locked": true,
     "points": 1,
     "schema_version": 1,
     "solution": false
    }
   },
   "outputs": [],
   "source": [
    "assert type(cv_score) == np.ndarray\n",
    "assert np.isclose(cv_score.mean(), -6327.32948027)"
   ]
  },
  {
   "cell_type": "markdown",
   "metadata": {
    "deletable": false,
    "editable": false,
    "nbgrader": {
     "checksum": "4e32a0b6a76922b3dd3ac19031a28776",
     "grade": false,
     "grade_id": "cell-f1a2948810aa64f5",
     "locked": true,
     "schema_version": 1,
     "solution": false
    }
   },
   "source": [
    "## Part B. Run linear regression with Lasso and cross-validation.\n",
    "\n",
    "Similar to component (A), but this time use Lasso regression with hyperparameter alpha = 0.5.\n",
    "\n",
    "Again, save the array from cross_val_score to a variable named cv_score."
   ]
  },
  {
   "cell_type": "code",
   "execution_count": null,
   "metadata": {
    "deletable": false,
    "nbgrader": {
     "checksum": "9b6d20950a87e15c9e51a3e70fab09ec",
     "grade": false,
     "grade_id": "cell-8d46731c6bc218b6",
     "locked": false,
     "schema_version": 1,
     "solution": true
    }
   },
   "outputs": [],
   "source": [
    "from sklearn.linear_model import Lasso\n",
    "\n",
    "cv_iterator = KFold(n_splits=5, shuffle=True, random_state=10)\n",
    "\n",
    "# YOUR CODE HERE\n",
    "raise NotImplementedError()"
   ]
  },
  {
   "cell_type": "code",
   "execution_count": null,
   "metadata": {
    "deletable": false,
    "editable": false,
    "nbgrader": {
     "checksum": "ac0b48b450071f02728034faba65d80e",
     "grade": true,
     "grade_id": "cell-c7edebc7b2cd1c7b",
     "locked": true,
     "points": 1,
     "schema_version": 1,
     "solution": false
    }
   },
   "outputs": [],
   "source": [
    "assert type(cv_score) == np.ndarray\n",
    "assert np.isclose(cv_score.mean(), -4.12944552338)"
   ]
  },
  {
   "cell_type": "markdown",
   "metadata": {
    "deletable": false,
    "editable": false,
    "nbgrader": {
     "checksum": "3654f62361b9bdb8fe1b169ecbf2ba1d",
     "grade": false,
     "grade_id": "cell-89156896ac8d048c",
     "locked": true,
     "schema_version": 1,
     "solution": false
    }
   },
   "source": [
    "## Part C. Run nested cross-validation.\n",
    "\n",
    "Run nested cross-validation, while optimizing for parameter alpha. We have provided the grid for parameter alpha and the CV iterators. Save the final array from cross_val_score into a variable named cv_score."
   ]
  },
  {
   "cell_type": "code",
   "execution_count": null,
   "metadata": {
    "deletable": false,
    "nbgrader": {
     "checksum": "7c0e35fa81aca9170eede80e7b409e2b",
     "grade": false,
     "grade_id": "cell-b3bd68da8483ec11",
     "locked": false,
     "schema_version": 1,
     "solution": true
    }
   },
   "outputs": [],
   "source": [
    "from sklearn.linear_model import Lasso\n",
    "from sklearn.model_selection import cross_val_score, KFold, GridSearchCV\n",
    "from sklearn.metrics import mean_squared_error\n",
    "\n",
    "# Parameter grid\n",
    "p_grid = {\n",
    "    \"alpha\": [0.1, 0.5, 1, 1.5]\n",
    "}\n",
    "\n",
    "# CV iterators\n",
    "inner_cv_iterator = KFold(n_splits=5, shuffle=True, random_state=10)\n",
    "outer_cv_iterator = KFold(n_splits=5, shuffle=True, random_state=10)\n",
    "\n",
    "# YOUR CODE HERE\n",
    "raise NotImplementedError()"
   ]
  },
  {
   "cell_type": "code",
   "execution_count": null,
   "metadata": {
    "deletable": false,
    "editable": false,
    "nbgrader": {
     "checksum": "38d4f3fb4b3a787527a56b95f74b3b57",
     "grade": true,
     "grade_id": "cell-asserts",
     "locked": true,
     "points": 1,
     "schema_version": 1,
     "solution": false
    }
   },
   "outputs": [],
   "source": [
    "assert type(cv_score) == np.ndarray\n",
    "assert np.isclose(-0.166766708646, cv_score.mean())"
   ]
  }
 ],
 "metadata": {
  "kernelspec": {
   "display_name": "Python 3",
   "language": "python",
   "name": "python3"
  },
  "language_info": {
   "codemirror_mode": {
    "name": "ipython",
    "version": 3
   },
   "file_extension": ".py",
   "mimetype": "text/x-python",
   "name": "python",
   "nbconvert_exporter": "python",
   "pygments_lexer": "ipython3",
   "version": "3.6.3"
  }
 },
 "nbformat": 4,
 "nbformat_minor": 2
}
